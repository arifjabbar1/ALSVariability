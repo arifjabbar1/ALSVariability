{
 "cells": [
  {
   "cell_type": "code",
   "execution_count": 1,
   "id": "b2662076-4418-40b4-a972-26039601475b",
   "metadata": {},
   "outputs": [],
   "source": [
    "import numpy as np\n",
    "import matplotlib.pyplot as plt\n",
    "import pandas as pd\n",
    "from sklearn.model_selection import train_test_split\n",
    "from tqdm import tqdm"
   ]
  },
  {
   "cell_type": "code",
   "execution_count": null,
   "id": "f2223ec9-ed48-4107-b253-574a0498f92d",
   "metadata": {},
   "outputs": [],
   "source": [
    "from sklearn.neighbors import NearestNeighbors, KNeighborsRegressor, KNeighborsClassifier\n",
    "from sklearn.model_selection import cross_validate, GridSearchCV, KFold"
   ]
  },
  {
   "cell_type": "code",
   "execution_count": null,
   "id": "7657e552-8e96-48c1-b1ed-594a49c10e96",
   "metadata": {},
   "outputs": [],
   "source": [
    "pd.set_option('display.max_rows', 200)\n",
    "pd.set_option('display.max_columns', 75)"
   ]
  },
  {
   "cell_type": "markdown",
   "id": "915df097-2389-4cbb-804b-e8b724c6e5ae",
   "metadata": {},
   "source": [
    "# Read and clean data"
   ]
  },
  {
   "cell_type": "code",
   "execution_count": null,
   "id": "0c5f2cbd-f12a-4f80-827d-ceb237038899",
   "metadata": {},
   "outputs": [],
   "source": [
    "df = pd.read_csv('../../Data/ALSdatacleaned.csv',index_col=[0])"
   ]
  },
  {
   "cell_type": "markdown",
   "id": "4bf79742-4eb1-490f-aff6-50d5bfdd0bb6",
   "metadata": {},
   "source": [
    "## Clean variables"
   ]
  },
  {
   "cell_type": "markdown",
   "id": "5f6136c7-924e-4f18-9dd8-c5c3fdd2bbe5",
   "metadata": {},
   "source": [
    "**ALSFRS**"
   ]
  },
  {
   "cell_type": "code",
   "execution_count": null,
   "id": "8eaf37f1-b295-45e5-b8f6-55a69978a7e7",
   "metadata": {},
   "outputs": [],
   "source": [
    "# multiply alsfrs by 1.2\n",
    "df['alsfrs'] = df['alsfrs']*1.2\n",
    "df['alsfrsr'] = df[['alsfrs','alsfrsr']].fillna(method='ffill',axis=1)['alsfrsr']"
   ]
  },
  {
   "cell_type": "code",
   "execution_count": null,
   "id": "3073453c-0412-4ce9-a81f-0d2faaaa2226",
   "metadata": {},
   "outputs": [],
   "source": [
    "df.loc[df['alsfrsr']>48,'alsfrsr'] = 48"
   ]
  },
  {
   "cell_type": "markdown",
   "id": "25c81ef0-1fce-4be7-a902-f651bf305bb3",
   "metadata": {},
   "source": [
    "**FVC**  \n",
    "Most subjects are Caucasian, so use formula for Caucasians to compute standard/normal FVC value using NHANESIII  \n",
    "https://www.atsjournals.org/doi/10.1164/ajrccm.159.1.9712108?url_ver=Z39.88-2003&rfr_id=ori:rid:crossref.org&rfr_dat=cr_pub%20%200pubmed"
   ]
  },
  {
   "cell_type": "code",
   "execution_count": null,
   "id": "08abf6ad-b488-4972-8812-16813ef5b3ef",
   "metadata": {},
   "outputs": [],
   "source": [
    "def fvc_normal(age,height,sex):\n",
    "    if sex == 1:\n",
    "        return -0.1933 + (0.00064*age) + (-0.000269*(age**2)) + (0.00018642*(height**2))\n",
    "    elif sex == 0:\n",
    "        return -0.3560 + (0.01870*age) + (-0.000382*(age**2)) + (0.00014815*(height**2))"
   ]
  },
  {
   "cell_type": "code",
   "execution_count": null,
   "id": "cc03172d-f444-4f18-83c3-3536b3fc8342",
   "metadata": {},
   "outputs": [],
   "source": [
    "df['FVC_norm'] = df.apply(lambda x: fvc_normal(x.Age, x.Height, x.Sex), axis=1)"
   ]
  },
  {
   "cell_type": "code",
   "execution_count": null,
   "id": "d684c57b-9bfe-47c7-b79c-45c01de66afe",
   "metadata": {},
   "outputs": [],
   "source": [
    "df['FVC_perc_new'] = df['FVC_abs']/df['FVC_norm']\n",
    "df['FVC_perc_new'] = df[['FVC_perc','FVC_perc_new']].fillna(method='ffill', axis=1)['FVC_perc_new']"
   ]
  },
  {
   "cell_type": "markdown",
   "id": "d93d40bb-d0e0-4155-bfcc-e4cc23cd1e56",
   "metadata": {},
   "source": [
    "**Others**"
   ]
  },
  {
   "cell_type": "code",
   "execution_count": null,
   "id": "27ea7468-9905-4316-9576-ae6fee87c80f",
   "metadata": {},
   "outputs": [],
   "source": [
    "df['delta'] = df['delta'].astype(int)"
   ]
  },
  {
   "cell_type": "code",
   "execution_count": null,
   "id": "b61a6f79-68e0-497c-8dfb-9b2d69dc25ad",
   "metadata": {},
   "outputs": [],
   "source": [
    "df = df.dropna(subset=['Onset_Delta'])"
   ]
  },
  {
   "cell_type": "markdown",
   "id": "c72e4dd5-a623-4c17-9f5b-e62eebbb60d9",
   "metadata": {},
   "source": [
    "**Drop unwanted columns and rows**"
   ]
  },
  {
   "cell_type": "code",
   "execution_count": null,
   "id": "b524fd3b-56fc-4ca7-a5f8-13a7b731937a",
   "metadata": {},
   "outputs": [],
   "source": [
    "# selected required columns\n",
    "df = df[['subject_id', 'delta', 'Age', 'Sex', 'site_bulbar',\n",
    "       'site_limb', 'Onset_Delta', 'Diagnosis_Delta', 'RiluzoleUse', 'Height',\n",
    "       'Weight', 'BMI', 'Pulse', 'Respiratory_Rate', 'BP_Diastolic', 'BP_Systolic',\n",
    "       'FVC_perc_new', 'ALT', 'AST', 'UricAcid', 'BUN',\n",
    "       'Albumin', 'AbsNeutroCount', 'Protein', 'CK', 'TotCholesterol',\n",
    "       'Triglycerides', 'HbA1c', 'Hb', 'Hematocrit', 'WBC', 'RBC',\n",
    "       'Creatinine', 'Sodium', 'Potassium', 'Chloride', 'Glucose', 'Platelets',\n",
    "       'AbsEosinophil', 'AlkalinePhosphatase', 'Bicarbonate', 'Calcium',\n",
    "       'AbsLymphocyte', 'AbsMonocyte', 'AbsBasophil', 'BilirubinTotal', 'GGT', 'PercLymphocytes',\n",
    "       'PercMonocytes', 'PercBasophils', 'Phosphorus', 'PercEosinophils', 'alsfrsr' ]]"
   ]
  },
  {
   "cell_type": "code",
   "execution_count": null,
   "id": "d3896654-6e56-474c-990a-d8637bcda036",
   "metadata": {},
   "outputs": [],
   "source": [
    "# drop subjects with more than 50% of labs missing across all time\n",
    "df_tmp = df.groupby('subject_id').agg(np.nanmean)\n",
    "lab_columns = ['ALT', 'AST',\n",
    "       'UricAcid', 'BUN', 'Albumin', 'AbsNeutroCount', 'Protein', 'CK',\n",
    "       'TotCholesterol', 'Triglycerides', 'HbA1c', 'Hb', 'Hematocrit', 'WBC',\n",
    "       'RBC', 'Creatinine', 'Sodium', 'Potassium', 'Chloride', 'Glucose',\n",
    "       'Platelets', 'AbsEosinophil', 'AlkalinePhosphatase', 'Bicarbonate',\n",
    "       'Calcium', 'AbsLymphocyte', 'AbsMonocyte', 'AbsBasophil',\n",
    "       'BilirubinTotal', 'GGT', 'PercLymphocytes', 'PercMonocytes',\n",
    "       'PercBasophils', 'Phosphorus', 'PercEosinophils']\n",
    "df = df[~df['subject_id'].isin(df_tmp[df_tmp[lab_columns].isna().sum(axis=1)>18].index)]"
   ]
  },
  {
   "cell_type": "code",
   "execution_count": null,
   "id": "8d40b48c-c612-472c-94cf-a352eb0bb5a3",
   "metadata": {},
   "outputs": [],
   "source": [
    "df.to_csv('ALSdatacleaned_noimputation.csv')"
   ]
  },
  {
   "cell_type": "markdown",
   "id": "ba0bc223-f15c-4155-9b48-97c893fa5e10",
   "metadata": {},
   "source": [
    "## Data imputation  \n",
    "Linear fit for missing data within subject. No missing data imputation for data that is missing across all timepoints for now."
   ]
  },
  {
   "cell_type": "code",
   "execution_count": null,
   "id": "e333dbbc-37ee-4b9e-9769-0b1e65cb0bba",
   "metadata": {},
   "outputs": [],
   "source": [
    "df = pd.read_csv('../Data/ALSdatacleaned_noimputation.csv', index_col=[0])"
   ]
  },
  {
   "cell_type": "code",
   "execution_count": null,
   "id": "8d23bd3a-cc5f-4c92-8dce-a780cb31bb8c",
   "metadata": {},
   "outputs": [],
   "source": [
    "# Data imputation for dynamic variables only, excluding BMI because BMI will be recomputed after weight imputation\n",
    "imputed_vars = ['Weight', 'Pulse', 'Respiratory_Rate', 'BP_Diastolic', 'BP_Systolic', 'FVC_perc_new', \n",
    "                'ALT', 'AST', 'UricAcid', 'BUN', 'Albumin', 'AbsNeutroCount', 'Protein', 'CK',\n",
    "                'TotCholesterol', 'Triglycerides', 'HbA1c', 'Hb', 'Hematocrit', 'WBC',\n",
    "                'RBC', 'Creatinine', 'Sodium', 'Potassium', 'Chloride', 'Glucose',\n",
    "                'Platelets', 'AbsEosinophil', 'AlkalinePhosphatase', 'Bicarbonate',\n",
    "                'Calcium', 'AbsLymphocyte', 'AbsMonocyte', 'AbsBasophil',\n",
    "                'BilirubinTotal', 'GGT', 'PercLymphocytes', 'PercMonocytes',\n",
    "                'PercBasophils', 'Phosphorus', 'PercEosinophils']"
   ]
  },
  {
   "cell_type": "code",
   "execution_count": null,
   "id": "c8035850-4c15-4c51-9bb6-89b96765e1dd",
   "metadata": {},
   "outputs": [],
   "source": [
    "for pat in tqdm(df['subject_id'].unique()): # for each subject\n",
    "    df_pat = df[df['subject_id']==pat]\n",
    "    for c in imputed_vars:\n",
    "        if (df_pat[c].isna().sum()>0) & (df_pat[c].isna().sum()<len(df_pat)-1):\n",
    "            #b, a = np.polyfit(df_pat.loc[df_pat[c].notnull(),'delta'], df_pat.loc[df_pat[c].notnull(),c], 1)\n",
    "            df.loc[(df['subject_id']==pat) & (df[c].isnull()),c] = np.interp(df_pat.loc[df_pat[c].isnull(),'delta'], df_pat.loc[df_pat[c].notnull(),'delta'], df_pat.loc[df_pat[c].notnull(),c])"
   ]
  },
  {
   "cell_type": "code",
   "execution_count": null,
   "id": "ef00909c-d9bb-4c50-aeca-0ba843db2160",
   "metadata": {},
   "outputs": [],
   "source": [
    "df.loc[df['BMI'].isnull(), 'BMI'] = df.loc[df['BMI'].isnull(), 'Weight']/((df.loc[df['BMI'].isnull(), 'Height']/100)**2)"
   ]
  },
  {
   "cell_type": "code",
   "execution_count": null,
   "id": "bde45fb2-cc29-4c58-b157-5b08ec925158",
   "metadata": {},
   "outputs": [],
   "source": [
    "df = df.reset_index(drop=True)\n",
    "df.to_csv('ALSdataimputed_GL.csv')"
   ]
  },
  {
   "cell_type": "markdown",
   "id": "e6abfe2a-1849-4a84-a3e7-6c1a5d57f1a2",
   "metadata": {},
   "source": [
    "### Train test split"
   ]
  },
  {
   "cell_type": "code",
   "execution_count": null,
   "id": "99800318-44ca-4909-b820-e099143eee98",
   "metadata": {},
   "outputs": [],
   "source": [
    "df = pd.read_csv('ALSdataimputed_GL.csv', index_col=[0])\n",
    "patients = df['subject_id'].unique()"
   ]
  },
  {
   "cell_type": "code",
   "execution_count": null,
   "id": "69f4e0a8-0823-4ebf-9316-96809d94332f",
   "metadata": {},
   "outputs": [],
   "source": [
    "train, test = train_test_split(patients, test_size=0.2, random_state=123)\n",
    "patients_df = pd.DataFrame({'subject_id':patients,'cv':np.nan})\n",
    "patients_df.loc[patients_df['subject_id'].isin(test),'cv'] = 0"
   ]
  },
  {
   "cell_type": "code",
   "execution_count": null,
   "id": "1f269b52-a18f-4aee-9e21-a331c49404a6",
   "metadata": {},
   "outputs": [],
   "source": [
    "# cross validation\n",
    "kf = KFold(n_splits=4, random_state=123, shuffle=True)\n",
    "n=1\n",
    "for train_index, test_index in kf.split(train):\n",
    "    patients_df.loc[patients_df['subject_id'].isin(train[test_index]),'cv'] = n\n",
    "    n+=1"
   ]
  },
  {
   "cell_type": "code",
   "execution_count": null,
   "id": "f08a87bf-d59e-481b-ba11-f963512c7e8e",
   "metadata": {},
   "outputs": [],
   "source": [
    "patients_df.to_csv('subjects_cv.csv')"
   ]
  },
  {
   "cell_type": "markdown",
   "id": "70b00751-0a79-4e9a-a8d4-5bbd42d8eb22",
   "metadata": {},
   "source": [
    "### Nearest neighbor  \n",
    "Use kNN (10) to impute features missing across all time for the subject"
   ]
  },
  {
   "cell_type": "code",
   "execution_count": null,
   "id": "67b38bb9-d802-4062-88af-77d3e9a29a4c",
   "metadata": {
    "collapsed": true,
    "jupyter": {
     "outputs_hidden": true
    },
    "tags": []
   },
   "outputs": [],
   "source": [
    "# do knn imputation for all cv folds\n",
    "for cv in range(1,5):\n",
    "    # load data\n",
    "    df = pd.read_csv('ALSdataimputed_GL.csv', index_col=[0])\n",
    "    \n",
    "    # standardize data based on training data\n",
    "    df_train = df[df['subject_id'].isin(patients_df.loc[patients_df['cv']!=cv,'subject_id'])].copy()\n",
    "    for col in ['Age','Sex','site_bulbar','site_limb','Onset_Delta']:\n",
    "        df[col+'std'] = (df[col]-df_train[col].mean()) / df_train[col].std()\n",
    "        df_train[col] = (df_train[col]-df_train[col].mean()) / df_train[col].std()\n",
    "    \n",
    "    # impute dynamic variables\n",
    "    neigh = KNeighborsRegressor(n_neighbors=10, metric='euclidean')\n",
    "    for c in imputed_vars:\n",
    "        df_tmp = df_train[df_train[c].notnull()]\n",
    "        neigh.fit(df_tmp[['Age','Sex','site_bulbar','site_limb','Onset_Delta']], df_tmp[c])\n",
    "        df.loc[df[c].isnull(), c] = neigh.predict(df.loc[df[c].isnull(), ['Agestd','Sexstd','site_bulbarstd','site_limbstd','Onset_Deltastd']])\n",
    "    \n",
    "    # standardize data for static var imputation\n",
    "    df_train = df[df['subject_id'].isin(patients_df.loc[patients_df['cv']!=cv,'subject_id'])].copy()\n",
    "    df_train = df_train.groupby('subject_id').first().reset_index()\n",
    "    df_subj = df.groupby('subject_id').first().reset_index()\n",
    "    for col in ['Age','Sex','site_bulbar','site_limb']: \n",
    "        df_subj[col+'std'] = (df_subj[col]-df_train[col].mean()) / df_train[col].std()\n",
    "        df_train[col] = (df_train[col]-df_train[col].mean()) / df_train[col].std()\n",
    "        \n",
    "    # height, dianosis_delta -> KNN regressor\n",
    "    for c in ['Height','Diagnosis_Delta']:\n",
    "        df_tmp = df_train[df_train[c].notnull()]\n",
    "        neigh.fit(df_tmp[['Age','Sex','site_bulbar','site_limb']], df_tmp[c])\n",
    "        missing_subj = df_subj[df_subj[c].isnull()]\n",
    "        missing_subj[c] = neigh.predict(missing_subj[['Agestd','Sexstd','site_bulbarstd','site_limbstd']])\n",
    "        df = df.merge(missing_subj[['subject_id',c]].rename({c:c+'_imputed'},axis=1), how='left', on='subject_id')\n",
    "        df[c] = df[[c+'_imputed',c]].fillna(method='ffill',axis=1)[c]\n",
    "        \n",
    "    # riluzole -> KNN classifier\n",
    "    df_tmp = df_train[df_train['RiluzoleUse'].notnull()]\n",
    "    neigh = KNeighborsClassifier(n_neighbors=10, metric='euclidean')\n",
    "    neigh.fit(df_tmp[['Age','Sex','site_bulbar','site_limb']], df_tmp['RiluzoleUse'])\n",
    "    missing_subj = df_subj[df_subj['RiluzoleUse'].isnull()]\n",
    "    missing_subj['RiluzoleUse'] = neigh.predict(missing_subj[['Agestd','Sexstd','site_bulbarstd','site_limbstd']])\n",
    "    df = df.merge(missing_subj[['subject_id','RiluzoleUse']].rename({'RiluzoleUse':'RiluzoleUse_imputed'},axis=1), how='left', on='subject_id')\n",
    "    df['RiluzoleUse'] = df[['RiluzoleUse_imputed','RiluzoleUse']].fillna(method='ffill',axis=1)['RiluzoleUse']\n",
    "    \n",
    "    # drop unwanted columns\n",
    "    df = df.drop(columns=['Agestd','Sexstd','site_bulbarstd','site_limbstd','Onset_Deltastd','Height_imputed','Diagnosis_Delta_imputed','RiluzoleUse_imputed'])\n",
    "    \n",
    "    # recompute BMI\n",
    "    df.loc[df['BMI'].isnull(), 'BMI'] = df.loc[df['BMI'].isnull(), 'Weight']/((df.loc[df['BMI'].isnull(), 'Height']/100)**2)\n",
    "    \n",
    "    # assign train test labels\n",
    "    df['train'] = 1\n",
    "    df.loc[df['subject_id'].isin(patients_df.loc[patients_df['cv']==cv,'subject_id']), 'train'] = 0\n",
    "    \n",
    "    # save data\n",
    "    df.to_csv('ALSdataimputedknn_GL_cv' + str(cv) + '.csv')"
   ]
  },
  {
   "cell_type": "code",
   "execution_count": null,
   "id": "c9d79fe9-6402-49e7-9d23-25ef89601006",
   "metadata": {},
   "outputs": [],
   "source": [
    "# drop unwanted columns\n",
    "df = df.drop(columns=['Agestd','Sexstd','site_bulbarstd','site_limbstd','Onset_Deltastd','Height_imputed','Diagnosis_Delta_imputed','RiluzoleUse_imputed'])"
   ]
  },
  {
   "cell_type": "code",
   "execution_count": null,
   "id": "44b0c50d-9bf4-4243-8f92-90a8bf055738",
   "metadata": {},
   "outputs": [],
   "source": [
    "# recompute BMI\n",
    "df.loc[df['BMI'].isnull(), 'BMI'] = df.loc[df['BMI'].isnull(), 'Weight']/((df.loc[df['BMI'].isnull(), 'Height']/100)**2)"
   ]
  },
  {
   "cell_type": "code",
   "execution_count": null,
   "id": "8e33356f-a56f-4827-8493-0c8379f9c0cf",
   "metadata": {},
   "outputs": [],
   "source": [
    "df.to_csv('ALSdataimputedknn_usingalldata.csv')"
   ]
  },
  {
   "attachments": {},
   "cell_type": "markdown",
   "id": "d587696c",
   "metadata": {},
   "source": [
    "## Correct diagnosis delta imputation"
   ]
  },
  {
   "cell_type": "code",
   "execution_count": null,
   "id": "f1911a68",
   "metadata": {},
   "outputs": [],
   "source": [
    "df_noimpute = pd.read_csv('ALSdatacleaned_noimputation.csv', index_col=[0])\n",
    "subjs = df_noimpute.loc[df_noimpute['Diagnosis_Delta'].isnull(), 'subject_id'].unique()"
   ]
  },
  {
   "cell_type": "code",
   "execution_count": null,
   "id": "5e0a77f9",
   "metadata": {},
   "outputs": [],
   "source": [
    "for cv in range(5):\n",
    "    print(cv)\n",
    "    df = pd.read_csv('ALSdataimputedknn_GL_cv'+str(cv)+'.csv', index_col=[0])\n",
    "    for s in subjs:\n",
    "        imputed_dd = df.loc[(df['subject_id']==s) & df['delta']==0, 'Diagnosis_Delta'].values[0]\n",
    "        df.loc[df['subject_id']==s, 'Diagnosis_Delta'] = imputed_dd - df.loc[df['subject_id']==s, 'delta']\n",
    "    df.to_csv('ALSdataimputedknn_GL_cv'+str(cv)+'.csv')"
   ]
  },
  {
   "cell_type": "code",
   "execution_count": null,
   "id": "39e2bbb4",
   "metadata": {},
   "outputs": [],
   "source": []
  }
 ],
 "metadata": {
  "kernelspec": {
   "display_name": "Python 3 (ipykernel)",
   "language": "python",
   "name": "python3"
  },
  "language_info": {
   "codemirror_mode": {
    "name": "ipython",
    "version": 3
   },
   "file_extension": ".py",
   "mimetype": "text/x-python",
   "name": "python",
   "nbconvert_exporter": "python",
   "pygments_lexer": "ipython3",
   "version": "3.9.16"
  }
 },
 "nbformat": 4,
 "nbformat_minor": 5
}
